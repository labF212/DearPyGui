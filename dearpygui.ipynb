{
  "cells": [
    {
      "cell_type": "markdown",
      "metadata": {
        "id": "view-in-github",
        "colab_type": "text"
      },
      "source": [
        "<a href=\"https://colab.research.google.com/github/labF212/DearPyGui/blob/main/dearpygui.ipynb\" target=\"_parent\"><img src=\"https://colab.research.google.com/assets/colab-badge.svg\" alt=\"Open In Colab\"/></a>"
      ]
    },
    {
      "cell_type": "code",
      "source": [
        "import dearpygui.dearpygui as dpg\n",
        "\n",
        "def save_callback():\n",
        "    print(\"Save Clicked\")\n",
        "\n",
        "dpg.create_context()\n",
        "dpg.create_viewport()\n",
        "dpg.setup_dearpygui()\n",
        "\n",
        "with dpg.window(label=\"Example Window\"):\n",
        "    dpg.add_text(\"Hello world\")\n",
        "    dpg.add_button(label=\"Save\", callback=save_callback)\n",
        "    dpg.add_input_text(label=\"string\")\n",
        "    dpg.add_slider_float(label=\"float\")\n",
        "\n",
        "dpg.show_viewport()\n",
        "dpg.start_dearpygui()\n",
        "dpg.destroy_context()"
      ],
      "metadata": {
        "id": "NiK0AuMCey3M"
      },
      "execution_count": null,
      "outputs": []
    }
  ],
  "metadata": {
    "kernelspec": {
      "display_name": "Python 3",
      "language": "python",
      "name": "python3"
    },
    "language_info": {
      "codemirror_mode": {
        "name": "ipython",
        "version": 3
      },
      "file_extension": ".py",
      "mimetype": "text/x-python",
      "name": "python",
      "nbconvert_exporter": "python",
      "pygments_lexer": "ipython3",
      "version": "3.8.10"
    },
    "colab": {
      "name": "dearpygui.ipynb",
      "provenance": [],
      "include_colab_link": true
    }
  },
  "nbformat": 4,
  "nbformat_minor": 0
}